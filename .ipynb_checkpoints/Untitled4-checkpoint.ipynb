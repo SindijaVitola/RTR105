{
 "cells": [
  {
   "cell_type": "markdown",
   "metadata": {},
   "source": [
    "# Laboratorijas darbs - skaitliskaa diferenceeshana"
   ]
  },
  {
   "cell_type": "markdown",
   "metadata": {},
   "source": [
    "ielaadeeju vajadziigaas funkcijas un nodefineeju funkciju"
   ]
  },
  {
   "cell_type": "code",
   "execution_count": 1,
   "metadata": {},
   "outputs": [],
   "source": [
    "import sys\n",
    "sys.path.append('/usr/local/anaconda3/lib/python3.6/site-packages')\n",
    "\n",
    "from numpy import sin, linspace\n",
    "\n",
    "def f(x):\n",
    "    return sin(x)"
   ]
  },
  {
   "cell_type": "markdown",
   "metadata": {},
   "source": [
    "Noraadiiju argumentu x, ka tas buus rocezhaas no 0 liidz 4 un grafikaa buus atteeloti 11 punkti, kaa arii noraadiiju pashu funkciju\n",
    "\n",
    "\n",
    "Darbam turpinoties tiks papildinaats legend"
   ]
  },
  {
   "cell_type": "code",
   "execution_count": 2,
   "metadata": {},
   "outputs": [],
   "source": [
    "x = linspace(0,4,11)\n",
    "y = f(x)\n",
    "\n",
    "legend = []"
   ]
  },
  {
   "cell_type": "markdown",
   "metadata": {},
   "source": [
    "Ieladeeju matplotib grafiku ziimeeshanai, noteicu robezhas, grafikam pieliku nosaukumu, kaa arii papildinu legend - grafika paskaidrojumus"
   ]
  },
  {
   "cell_type": "code",
   "execution_count": null,
   "metadata": {},
   "outputs": [],
   "source": [
    "from matplotlib import pyplot as plt\n",
    "#print(plt.__doc__)\n",
    "plt.axis([0, 4, -1, 1])\n",
    "plt.grid\n",
    "plt.xlabel(\"x\")\n",
    "plt.ylabel(\"f(x)\")\n",
    "plt.title(\"Funkcija $sin(x)$ un taas atvasinaajumi\")\n",
    "plt.plot(x,y,\"k\")\n",
    "legend.append(\"$sin(x)$ - default - viss ir savienots ar taisnaam liinijaam\")\n",
    "#print(legend)\n",
    "plt.plot(x,y,\"ro\")\n",
    "legend.append(\"$sin(x)$ - tikai dazhi punkti\")\n",
    "#print(legend)"
   ]
  },
  {
   "cell_type": "code",
   "execution_count": 3,
   "metadata": {},
   "outputs": [
    {
     "ename": "NameError",
     "evalue": "name 'plt' is not defined",
     "output_type": "error",
     "traceback": [
      "\u001b[0;31m---------------------------------------------------------------------------\u001b[0m",
      "\u001b[0;31mNameError\u001b[0m                                 Traceback (most recent call last)",
      "\u001b[0;32m<ipython-input-3-be01bf44beef>\u001b[0m in \u001b[0;36m<module>\u001b[0;34m()\u001b[0m\n\u001b[1;32m      7\u001b[0m     \u001b[0mderivative\u001b[0m\u001b[0;34m.\u001b[0m\u001b[0mappend\u001b[0m\u001b[0;34m(\u001b[0m\u001b[0mtemp\u001b[0m\u001b[0;34m)\u001b[0m\u001b[0;34m\u001b[0m\u001b[0;34m\u001b[0m\u001b[0m\n\u001b[1;32m      8\u001b[0m \u001b[0;34m\u001b[0m\u001b[0m\n\u001b[0;32m----> 9\u001b[0;31m \u001b[0mplt\u001b[0m\u001b[0;34m.\u001b[0m\u001b[0mplot\u001b[0m\u001b[0;34m(\u001b[0m\u001b[0mx\u001b[0m\u001b[0;34m,\u001b[0m\u001b[0mderivative\u001b[0m\u001b[0;34m,\u001b[0m\u001b[0;34m\"y\"\u001b[0m\u001b[0;34m)\u001b[0m\u001b[0;34m\u001b[0m\u001b[0;34m\u001b[0m\u001b[0m\n\u001b[0m\u001b[1;32m     10\u001b[0m \u001b[0mlegend\u001b[0m\u001b[0;34m.\u001b[0m\u001b[0mappend\u001b[0m\u001b[0;34m(\u001b[0m\u001b[0;34m\"$sin(x)$ atvasinajums - viss ir savienots ar taisnaam liinijaam\"\u001b[0m\u001b[0;34m)\u001b[0m\u001b[0;34m\u001b[0m\u001b[0;34m\u001b[0m\u001b[0m\n\u001b[1;32m     11\u001b[0m \u001b[0mplt\u001b[0m\u001b[0;34m.\u001b[0m\u001b[0mplot\u001b[0m\u001b[0;34m(\u001b[0m\u001b[0mx\u001b[0m\u001b[0;34m,\u001b[0m\u001b[0mderivative\u001b[0m\u001b[0;34m,\u001b[0m\u001b[0;34m\"go\"\u001b[0m\u001b[0;34m)\u001b[0m\u001b[0;34m\u001b[0m\u001b[0;34m\u001b[0m\u001b[0m\n",
      "\u001b[0;31mNameError\u001b[0m: name 'plt' is not defined"
     ]
    }
   ],
   "source": [
    "N = len(x)\n",
    "deltax = x[1] - x[0]\n",
    "derivative = []\n",
    "\n",
    "for i in range(N):\n",
    "    temp = (f(x[i] + deltax)- f(x[i])) / deltax\n",
    "    derivative.append(temp)\n",
    "\n",
    "plt.plot(x,derivative,\"y\")\n",
    "legend.append(\"$sin(x)$ atvasinajums - viss ir savienots ar taisnaam liinijaam\")\n",
    "plt.plot(x,derivative,\"go\")\n",
    "legend.append(\"$sin(x)$ atvasinajums - dazhi punkti\")\n",
    "\n",
    "derivative_through_array = []\n",
    "\n",
    "for i in range(N-1):\n",
    "    temp = (y[i+1] - y[i]) / (x[i+1] - x[i])\n",
    "    derivative_through_array.append(temp)\n",
    "\n",
    "plt.plot(x[0:N-1],derivative_through_array,\"m\")\n",
    "legend.append(\"$sin(x)$ atvasinajums, izmantojot masiva vertibas - viss ir savienots ar taisnaam liinijaam\")\n",
    "plt.plot(x[0:N-1],derivative_through_array,\"bo\")\n",
    "legend.append(\"$sin(x)$ atvasinajums, izmantojot masiva vertibas - dazhi punkti\")\n",
    "\n",
    "plt.plot(0.680, 0.620, 'ch',markersize = 20)\n",
    "plt.legend(legend, loc = 3, fancybox=True, framealpha=0.01)\n",
    "plt.show()\n"
   ]
  },
  {
   "cell_type": "code",
   "execution_count": null,
   "metadata": {},
   "outputs": [],
   "source": []
  }
 ],
 "metadata": {
  "kernelspec": {
   "display_name": "Python 3",
   "language": "python",
   "name": "python3"
  },
  "language_info": {
   "codemirror_mode": {
    "name": "ipython",
    "version": 3
   },
   "file_extension": ".py",
   "mimetype": "text/x-python",
   "name": "python",
   "nbconvert_exporter": "python",
   "pygments_lexer": "ipython3",
   "version": "3.6.7"
  }
 },
 "nbformat": 4,
 "nbformat_minor": 2
}
