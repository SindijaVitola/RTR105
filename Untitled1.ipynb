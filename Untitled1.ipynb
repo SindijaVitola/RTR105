{
 "cells": [
  {
   "cell_type": "markdown",
   "metadata": {},
   "source": [
    "# Laboritorijas darbs - Teilora rindas"
   ]
  },
  {
   "cell_type": "markdown",
   "metadata": {},
   "source": [
    "Ielādēju no scipy.special savu besseļa funkciju"
   ]
  },
  {
   "cell_type": "code",
   "execution_count": 1,
   "metadata": {},
   "outputs": [],
   "source": [
    "# -*- coding: utf-8 -*-\n",
    "from scipy.special import j1"
   ]
  },
  {
   "cell_type": "markdown",
   "metadata": {},
   "source": [
    "Aprēķināju un noskaidroju savu rekurences reizinātāju, tādā veidā aprēķinot katru nākamo virknes locekli a. Aprēķināju visus iespējamos k, kas ir mazāki par 500, kā arī aprēķināju summu S"
   ]
  },
  {
   "cell_type": "code",
   "execution_count": 2,
   "metadata": {},
   "outputs": [],
   "source": [
    "def mana_funkcija(x):\n",
    "    k = 0\n",
    "    a = (-1)**0*x**0/(1)\n",
    "    S = a\n",
    "    print(\"Izdruka no liet.f. a0 = %6.2f S0 = %6.2f\"%(a,S))\n",
    "    \n",
    "    while k < 500:\n",
    "        k = k + 1\n",
    "        R = (1/(k**2+k)*(-1)*x**-2)\n",
    "        a = a * R\n",
    "        S = S + a\n",
    "        if k == 499:\n",
    "            print(\"Izdruka no liet.f. a%d = %6.2f S%d = %6.2f\"%(k,a,k,S))\n",
    "        \n",
    "    S = S + a\n",
    "    print(\"Izdruka no liet.f. a500 = %6.2f S500 = %6.2f\"%(a,S))\n",
    "    return S"
   ]
  },
  {
   "cell_type": "markdown",
   "metadata": {},
   "source": [
    "Noteicu x, lai katru reizi ievadot skaitli tas būtu float stilā. Noteicu y pēc savas funkcijas, kā arī lai attēlotu shematiski bezgalības zīmi uzzināju, ka bezgalības zīme kodu veidā izskatās šādi: u\"\\u221E\" un noteicu to kā m"
   ]
  },
  {
   "cell_type": "code",
   "execution_count": 3,
   "metadata": {
    "scrolled": true
   },
   "outputs": [
    {
     "name": "stdout",
     "output_type": "stream",
     "text": [
      "Lietotāj, lūdzu, ievadi argumentu (x): 10\n",
      "standarta sin(10.00) =   0.07\n",
      "Izdruka no liet.f. a0 =   1.00 S0 =   1.00\n",
      "Izdruka no liet.f. a499 =  -0.00 S499 =   1.00\n",
      "Izdruka no liet.f. a500 =   0.00 S500 =   1.00\n",
      "mans sin(10.00) =   1.00\n",
      "\n"
     ]
    }
   ],
   "source": [
    "x = float(input(\"Lietotāj, lūdzu, ievadi argumentu (x): \"))\n",
    "y = j1(2*x)\n",
    "print(\"standarta sin(%.2f) = %6.2f\"%(x,y))\n",
    "\n",
    "yy = mana_funkcija(x)\n",
    "m = u\"\\u221E\"\n",
    "print(\"mans sin(%.2f) = %6.2f\"%(x,yy))\n",
    "print(\"\")"
   ]
  },
  {
   "cell_type": "markdown",
   "metadata": {},
   "source": [
    "Uzzīmēju savu funkciju shematiski un norādīju rekurences reizinātāju"
   ]
  },
  {
   "cell_type": "code",
   "execution_count": 4,
   "metadata": {},
   "outputs": [
    {
     "name": "stdout",
     "output_type": "stream",
     "text": [
      "               500\n",
      "             _______ \n",
      "            \\            k   2*k \n",
      "             \\       (-1) * x    \n",
      "j1(2*x) ~ x * >     ____________  , kur -∞<x<∞\n",
      "             /        k!*(k+1)!  \n",
      "            /______  \n",
      "               k=0\n",
      "                              1\n",
      "rekurences reizinātājs: _______________\n",
      "                          2          -2\n",
      "                        (k + k)*(-1)*x\n"
     ]
    }
   ],
   "source": [
    "print(\"               500\")\n",
    "print(\"             _______ \")\n",
    "print(\"            \\            k   2*k \")\n",
    "print(\"             \\       (-1) * x    \")\n",
    "print(\"j1(2*x) ~ x * >     ____________  , kur -%s<x<%s\"%(m,m))\n",
    "print(\"             /        k!*(k+1)!  \")\n",
    "print(\"            /______  \")\n",
    "print(\"               k=0\")\n",
    "\n",
    "\n",
    "print(\"                              1\")\n",
    "print(\"rekurences reizinātājs: _______________\")\n",
    "print(\"                          2          -2\")\n",
    "print(\"                        (k + k)*(-1)*x\")\n"
   ]
  },
  {
   "cell_type": "code",
   "execution_count": null,
   "metadata": {},
   "outputs": [],
   "source": []
  }
 ],
 "metadata": {
  "kernelspec": {
   "display_name": "Python 3",
   "language": "python",
   "name": "python3"
  },
  "language_info": {
   "codemirror_mode": {
    "name": "ipython",
    "version": 3
   },
   "file_extension": ".py",
   "mimetype": "text/x-python",
   "name": "python",
   "nbconvert_exporter": "python",
   "pygments_lexer": "ipython3",
   "version": "3.6.7"
  }
 },
 "nbformat": 4,
 "nbformat_minor": 2
}
