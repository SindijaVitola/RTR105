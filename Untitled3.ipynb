{
 "cells": [
  {
   "cell_type": "markdown",
   "metadata": {},
   "source": [
    "# Laboritorijas darbs - saknes mekleeshana"
   ]
  },
  {
   "cell_type": "markdown",
   "metadata": {},
   "source": [
    "## Klases darbs"
   ]
  },
  {
   "cell_type": "markdown",
   "metadata": {},
   "source": [
    "Ielaadeeju vajadziigo funkciju"
   ]
  },
  {
   "cell_type": "code",
   "execution_count": 5,
   "metadata": {},
   "outputs": [],
   "source": [
    "from math import sin, fabs\n",
    "from time import sleep"
   ]
  },
  {
   "cell_type": "markdown",
   "metadata": {},
   "source": [
    "Raksturoju funkciju"
   ]
  },
  {
   "cell_type": "code",
   "execution_count": 6,
   "metadata": {},
   "outputs": [],
   "source": [
    "def f(x):\n",
    "    return sin(x)"
   ]
  },
  {
   "cell_type": "markdown",
   "metadata": {},
   "source": [
    "Raksturoju argumenta x robezhas"
   ]
  },
  {
   "cell_type": "code",
   "execution_count": 7,
   "metadata": {},
   "outputs": [],
   "source": [
    "a = 1.1\n",
    "b = 3.2"
   ]
  },
  {
   "cell_type": "markdown",
   "metadata": {},
   "source": [
    "Apreekjinaaju funkcijas veertibas dotajos punktos"
   ]
  },
  {
   "cell_type": "code",
   "execution_count": 8,
   "metadata": {},
   "outputs": [],
   "source": [
    "funa = f(a)\n",
    "funb = f(b)"
   ]
  },
  {
   "cell_type": "markdown",
   "metadata": {},
   "source": [
    "Paarbaudiiju vai dotajaa intervaalaa ir saknes"
   ]
  },
  {
   "cell_type": "code",
   "execution_count": 9,
   "metadata": {},
   "outputs": [
    {
     "name": "stdout",
     "output_type": "stream",
     "text": [
      "Dotajaa intervaalaa sakne(s) ir!\n"
     ]
    }
   ],
   "source": [
    "if ( funa * funb > 0.0):\n",
    "    print (\"Dotajaa intervaalaa [%s, %s] saknju nav\")%(a,b)\n",
    "    sleep(1); exit()\n",
    "else:\n",
    "    print (\"Dotajaa intervaalaa sakne(s) ir!\")"
   ]
  },
  {
   "cell_type": "markdown",
   "metadata": {},
   "source": [
    "Nodefineeju precizitaati, ar kaadu mekleet sakni un sashaurinaajaam saknes mekleeshanas robezhas"
   ]
  },
  {
   "cell_type": "code",
   "execution_count": 11,
   "metadata": {},
   "outputs": [
    {
     "name": "stdout",
     "output_type": "stream",
     "text": [
      "Sakne ir:  3.1425781250000004\n",
      "Dotās funkcijas vērtība šajā punktā:  -0.0009854712506998128\n",
      "Nepieciešamo iterāciju skaits intervālu dalīšanai uz pusēm:  0\n"
     ]
    }
   ],
   "source": [
    "deltax = 0.01\n",
    "\n",
    "k = 0\n",
    "while  ( fabs(b-a) > deltax ) :\n",
    "    x = (a+b)/2; funx = f(x)\n",
    "    if ( funa*funx < 0. ) :\n",
    "        b = x\n",
    "    else:\n",
    "        a = x\n",
    "        \n",
    "print (\"Sakne ir: \", x)\n",
    "print (\"Dotās funkcijas vērtība šajā punktā: \", f(x))\n",
    "print (\"Nepieciešamo iterāciju skaits intervālu dalīšanai uz pusēm: \", k)"
   ]
  },
  {
   "cell_type": "markdown",
   "metadata": {},
   "source": [
    "## Savas funkcijas saknes mekleeshana"
   ]
  },
  {
   "cell_type": "code",
   "execution_count": 2,
   "metadata": {},
   "outputs": [
    {
     "name": "stdout",
     "output_type": "stream",
     "text": [
      "Dotajaa intervaalaa sakne(s) ir!\n",
      "Sakne ir:  1.912109375\n",
      "Dotās funkcijas vērtība šajā punktā:  0.003018472069440315\n",
      "Nepieciešamo iterāciju skaits intervālu dalīšanai uz pusēm:  0\n"
     ]
    }
   ],
   "source": [
    "from math import sin, fabs\n",
    "from time import sleep\n",
    "from scipy.special import j1\n",
    "\n",
    "def f(x):\n",
    "    return j1(2*x)\n",
    "\n",
    "a = 1.1\n",
    "b = 3.2\n",
    "\n",
    "funa = f(a)\n",
    "funb = f(b)\n",
    "\n",
    "if ( funa * funb > 0.0):\n",
    "    print (\"Dotajaa intervaalaa [%s, %s] saknju nav\")%(a,b)\n",
    "    sleep(1); exit()\n",
    "else:\n",
    "    print (\"Dotajaa intervaalaa sakne(s) ir!\")\n",
    "    \n",
    "deltax = 0.01\n",
    "\n",
    "k = 0\n",
    "while  ( fabs(b-a) > deltax ) :\n",
    "    x = (a+b)/2; funx = f(x)\n",
    "    if ( funa*funx < 0. ) :\n",
    "        b = x\n",
    "    else:\n",
    "        a = x\n",
    "        \n",
    "print (\"Sakne ir: \", x)\n",
    "print (\"Dotās funkcijas vērtība šajā punktā: \", f(x))\n",
    "print (\"Nepieciešamo iterāciju skaits intervālu dalīšanai uz pusēm: \", k)    "
   ]
  },
  {
   "cell_type": "code",
   "execution_count": null,
   "metadata": {},
   "outputs": [],
   "source": []
  }
 ],
 "metadata": {
  "kernelspec": {
   "display_name": "Python 3",
   "language": "python",
   "name": "python3"
  },
  "language_info": {
   "codemirror_mode": {
    "name": "ipython",
    "version": 3
   },
   "file_extension": ".py",
   "mimetype": "text/x-python",
   "name": "python",
   "nbconvert_exporter": "python",
   "pygments_lexer": "ipython3",
   "version": "3.6.7"
  }
 },
 "nbformat": 4,
 "nbformat_minor": 2
}
