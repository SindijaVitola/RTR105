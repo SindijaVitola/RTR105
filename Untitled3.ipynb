{
 "cells": [
  {
   "cell_type": "markdown",
   "metadata": {},
   "source": [
    "# Laboritorijas darbs - saknes mekleeshana"
   ]
  },
  {
   "cell_type": "markdown",
   "metadata": {},
   "source": [
    "Ielaadeeju vajadziigo funkciju"
   ]
  },
  {
   "cell_type": "code",
   "execution_count": 11,
   "metadata": {},
   "outputs": [],
   "source": [
    "from math import sin, fabs\n",
    "from time import sleep"
   ]
  },
  {
   "cell_type": "markdown",
   "metadata": {},
   "source": [
    "Raksturoju funkciju"
   ]
  },
  {
   "cell_type": "code",
   "execution_count": 12,
   "metadata": {},
   "outputs": [],
   "source": [
    "def f(x):\n",
    "    return sin(x)"
   ]
  },
  {
   "cell_type": "markdown",
   "metadata": {},
   "source": [
    "Raksturoju argumenta x robezhas"
   ]
  },
  {
   "cell_type": "code",
   "execution_count": 13,
   "metadata": {},
   "outputs": [],
   "source": [
    "a = 1.1\n",
    "b = 3.2"
   ]
  },
  {
   "cell_type": "markdown",
   "metadata": {},
   "source": [
    "Apreekjinaaju funkcijas veertibas dotajos punktos"
   ]
  },
  {
   "cell_type": "code",
   "execution_count": 14,
   "metadata": {},
   "outputs": [],
   "source": [
    "funa = f(a)\n",
    "funb = f(b)"
   ]
  },
  {
   "cell_type": "markdown",
   "metadata": {},
   "source": [
    "Paarbaudiiju vai dotajaa intervaalaa ir saknes"
   ]
  },
  {
   "cell_type": "code",
   "execution_count": 15,
   "metadata": {},
   "outputs": [
    {
     "name": "stdout",
     "output_type": "stream",
     "text": [
      "Dotajaa intervaalaa sakne(s) ir!\n"
     ]
    }
   ],
   "source": [
    "if ( funa * funb > 0.0):\n",
    "    print (\"Dotajaa intervaalaa [%s, %s] saknju nav\")%(a,b)\n",
    "    sleep(1); exit()\n",
    "else:\n",
    "    print (\"Dotajaa intervaalaa sakne(s) ir!\")"
   ]
  },
  {
   "cell_type": "markdown",
   "metadata": {},
   "source": [
    "Nodefineeju precizitaati, ar kaadu mekleet sakni un sashaurinaajaam saknes mekleeshanas robezhas"
   ]
  },
  {
   "cell_type": "code",
   "execution_count": 17,
   "metadata": {},
   "outputs": [
    {
     "name": "stdout",
     "output_type": "stream",
     "text": [
      "Sakne ir: \n",
      "Dotās funkcijas vērtība šajā punktā: \n",
      "Nepieciešamo iterāciju skaits intervālu dalīšanai uz pusēm: \n"
     ]
    },
    {
     "data": {
      "text/plain": [
       "(None, 0)"
      ]
     },
     "execution_count": 17,
     "metadata": {},
     "output_type": "execute_result"
    }
   ],
   "source": [
    "deltax = 0.01\n",
    "\n",
    "k = 0\n",
    "while ( fabs(b-a) > deltax ):\n",
    "    k = k + 1\n",
    "    x = (a+b)/2; funx = f(x)\n",
    "    if ( funa*funx < 0. ):\n",
    "        b = x\n",
    "    else:\n",
    "        a = x\n",
    "        \n",
    "print (\"Sakne ir: \"), x\n",
    "print (\"Dotās funkcijas vērtība šajā punktā: \"), f(x)\n",
    "print (\"Nepieciešamo iterāciju skaits intervālu dalīšanai uz pusēm: \"), k"
   ]
  },
  {
   "cell_type": "code",
   "execution_count": 18,
   "metadata": {},
   "outputs": [
    {
     "ename": "NameError",
     "evalue": "name 'gnuplot' is not defined",
     "output_type": "error",
     "traceback": [
      "\u001b[0;31m---------------------------------------------------------------------------\u001b[0m",
      "\u001b[0;31mNameError\u001b[0m                                 Traceback (most recent call last)",
      "\u001b[0;32m<ipython-input-18-cfa3aa7d19cd>\u001b[0m in \u001b[0;36m<module>\u001b[0;34m()\u001b[0m\n\u001b[0;32m----> 1\u001b[0;31m \u001b[0mgnuplot\u001b[0m\u001b[0;34m\u001b[0m\u001b[0;34m\u001b[0m\u001b[0m\n\u001b[0m",
      "\u001b[0;31mNameError\u001b[0m: name 'gnuplot' is not defined"
     ]
    }
   ],
   "source": [
    "gnuplot"
   ]
  },
  {
   "cell_type": "code",
   "execution_count": null,
   "metadata": {},
   "outputs": [],
   "source": []
  }
 ],
 "metadata": {
  "kernelspec": {
   "display_name": "Python 3",
   "language": "python",
   "name": "python3"
  },
  "language_info": {
   "codemirror_mode": {
    "name": "ipython",
    "version": 3
   },
   "file_extension": ".py",
   "mimetype": "text/x-python",
   "name": "python",
   "nbconvert_exporter": "python",
   "pygments_lexer": "ipython3",
   "version": "3.6.7"
  }
 },
 "nbformat": 4,
 "nbformat_minor": 2
}
